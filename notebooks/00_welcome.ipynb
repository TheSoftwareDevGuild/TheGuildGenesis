{
  "cells": [
    {
      "cell_type": "markdown",
      "metadata": {},
      "source": [
        "# Welcome to The Guild Notebooks\n",
        "\n",
        "This workspace is set up for quick experiments and analysis.\n",
        "\n",
        "- Environment: see `requirements.txt`\n",
        "- Bootstrap: run `./setup.sh` (macOS/Linux) then `jupyter lab`\n",
        "- Kernel: \"Python (TheGuild Notebooks)\"\n",
        "\n",
        "Happy exploring!\n"
      ]
    },
    {
      "cell_type": "markdown",
      "metadata": {},
      "source": []
    },
    {
      "cell_type": "code",
      "execution_count": 1,
      "metadata": {},
      "outputs": [
        {
          "name": "stdout",
          "output_type": "stream",
          "text": [
            "{'python_version': '3.12.11', 'platform': 'macOS-15.6-arm64-arm-64bit', 'numpy': '2.3.4', 'pandas': '2.3.3'}\n"
          ]
        }
      ],
      "source": [
        "import sys, platform\n",
        "import numpy as np\n",
        "import pandas as pd\n",
        "\n",
        "print({\n",
        "    \"python_version\": sys.version.split()[0],\n",
        "    \"platform\": platform.platform(),\n",
        "    \"numpy\": np.__version__,\n",
        "    \"pandas\": pd.__version__,\n",
        "})\n",
        "\n"
      ]
    }
  ],
  "metadata": {
    "kernelspec": {
      "display_name": "Python (TheGuild Notebooks)",
      "language": "python",
      "name": "the-guild-notebooks"
    },
    "language_info": {
      "codemirror_mode": {
        "name": "ipython",
        "version": 3
      },
      "file_extension": ".py",
      "mimetype": "text/x-python",
      "name": "python",
      "nbconvert_exporter": "python",
      "pygments_lexer": "ipython3",
      "version": "3.12.11"
    }
  },
  "nbformat": 4,
  "nbformat_minor": 2
}
